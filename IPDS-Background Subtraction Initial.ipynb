{
 "cells": [
  {
   "cell_type": "code",
   "execution_count": 1,
   "metadata": {},
   "outputs": [
    {
     "name": "stdout",
     "output_type": "stream",
     "text": [
      "Information for the subtraction array:\n",
      "Dimensions of the matrix: (2267, 2267)\n",
      "Type of matrix data: int32\n",
      "Min intensity value: 0\n",
      "Max intensity value: 194\n",
      "Mean value: 1.6740749547262277\n",
      "The image is saved in: C:/Users/sapd/Desktop/X23_0081_Pigment_temp\\DCSQI_annealed_40mm_240min_om0_ph10rpm_201223_Sub.tif\n"
     ]
    }
   ],
   "source": [
    "## Image Plate Diffraction System ##\n",
    "\n",
    "## Background Subtraction Initial (Version 1.0) ##\n",
    "\n",
    "## Empa, Center for X-ray Analytics, D.Sapalidis, St. Gallen, Switzerland, 21.12.2023 ##\n",
    "\n",
    "import os\n",
    "from PIL import Image\n",
    "import numpy as np\n",
    "\n",
    "def create_difference_image(main_path, back_path, back_coefficient=0.1):\n",
    "    \n",
    "    # Load the tif images\n",
    "    main = Image.open(main_path).convert('L')\n",
    "    back = Image.open(back_path).convert('L')\n",
    "\n",
    "    # Convert into numpy arrays\n",
    "    main_array = np.array(main).astype('int32')\n",
    "    back_array = np.array(back).astype('int32')\n",
    "\n",
    "    # Subtraction of the background array-image\n",
    "    diff = np.clip(main_array - back_coefficient * back_array, 0, main_array.max())\n",
    "\n",
    "    # Information for the subtraction array\n",
    "    print(\"Information for the subtraction array:\")\n",
    "    print(f\"Dimensions of the matrix: {diff.shape}\")\n",
    "    print(f\"Type of matrix data: {diff.dtype}\")\n",
    "    print(f\"Min intensity value: {np.min(diff)}\")\n",
    "    print(f\"Max intensity value: {np.max(diff)}\")\n",
    "    print(f\"Mean value: {np.mean(diff)}\")\n",
    "\n",
    "    # Save the background subtracted image in the same file directory with the main image\n",
    "    main_dir, main_filename = os.path.split(main_path)\n",
    "    result_path = os.path.join(main_dir, f'{os.path.splitext(main_filename)[0]}_Sub.tif')\n",
    "    Image.fromarray(diff.astype(np.uint16)).save(result_path)\n",
    "\n",
    "    print(f'The image is saved in: {result_path}')\n",
    "\n",
    "# Type the path of the main image and its background image - need to convert \"\\\" to \"/\"\n",
    "main_image_path = 'C:/Users/sapd/Desktop/X23_0081_Pigment_temp/DCSQI_annealed_40mm_240min_om0_ph10rpm_201223.tif'\n",
    "back_image_path = 'C:/Users/sapd/Desktop/X23_0081_Pigment_temp/Si_40mm_240min_om0_ph10rpm_211223.tif'\n",
    "back_coefficient_value = 1\n",
    "\n",
    "create_difference_image(main_image_path, back_image_path, back_coefficient_value)\n"
   ]
  }
 ],
 "metadata": {
  "kernelspec": {
   "display_name": "base",
   "language": "python",
   "name": "python3"
  },
  "language_info": {
   "codemirror_mode": {
    "name": "ipython",
    "version": 3
   },
   "file_extension": ".py",
   "mimetype": "text/x-python",
   "name": "python",
   "nbconvert_exporter": "python",
   "pygments_lexer": "ipython3",
   "version": "3.11.5"
  }
 },
 "nbformat": 4,
 "nbformat_minor": 2
}
